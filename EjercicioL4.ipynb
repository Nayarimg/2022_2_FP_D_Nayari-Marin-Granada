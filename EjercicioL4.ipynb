{
  "nbformat": 4,
  "nbformat_minor": 0,
  "metadata": {
    "colab": {
      "provenance": [],
      "authorship_tag": "ABX9TyP52+6/gtotoBW6KlcEFySn",
      "include_colab_link": true
    },
    "kernelspec": {
      "name": "python3",
      "display_name": "Python 3"
    },
    "language_info": {
      "name": "python"
    }
  },
  "cells": [
    {
      "cell_type": "markdown",
      "metadata": {
        "id": "view-in-github",
        "colab_type": "text"
      },
      "source": [
        "<a href=\"https://colab.research.google.com/github/Nayarimg/2022_2_FP_D_Nayari-Marin-Granada/blob/main/EjercicioL4.ipynb\" target=\"_parent\"><img src=\"https://colab.research.google.com/assets/colab-badge.svg\" alt=\"Open In Colab\"/></a>"
      ]
    },
    {
      "cell_type": "code",
      "execution_count": null,
      "metadata": {
        "id": "5LPTI8t8tqVl",
        "outputId": "9a2475c7-b1dd-4512-ac8e-c7ca00408d7d",
        "colab": {
          "base_uri": "https://localhost:8080/"
        }
      },
      "outputs": [
        {
          "output_type": "stream",
          "name": "stdout",
          "text": [
            "Ingrese un numero del 1 al 7:   6\n",
            "Sabado\n"
          ]
        }
      ],
      "source": [
        "Dia=int(input(\"Ingrese un numero del 1 al 7:   \"))\n",
        "\n",
        "#Ya que el metodo switch no esta disponible para python lo realizaremos por if\n",
        "\n",
        "if Dia==1:\n",
        "  print(\"Lunes\")\n",
        "elif Dia==2:\n",
        "  print(\"Martes\")\n",
        "elif Dia==3:\n",
        "  print(\"Miercoles\")\n",
        "elif Dia==4:\n",
        "  print(\"Jueves\")\n",
        "elif Dia==5:\n",
        "   print(\"Viernes\")\n",
        "elif Dia==6:\n",
        "  print(\"Sabado\")\n",
        "elif Dia==7:\n",
        "  print(\"Domingo\")\n",
        "\n",
        "else:\n",
        "  print(\"ERROR\")"
      ]
    }
  ]
}