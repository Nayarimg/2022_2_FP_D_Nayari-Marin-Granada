{
  "cells": [
    {
      "cell_type": "markdown",
      "metadata": {
        "id": "view-in-github",
        "colab_type": "text"
      },
      "source": [
        "<a href=\"https://colab.research.google.com/github/Nayarimg/2022_2_FP_D_Nayari-Marin-Granada/blob/main/36EjerciciosFunciones.ipynb\" target=\"_parent\"><img src=\"https://colab.research.google.com/assets/colab-badge.svg\" alt=\"Open In Colab\"/></a>"
      ]
    },
    {
      "cell_type": "code",
      "execution_count": null,
      "metadata": {
        "colab": {
          "base_uri": "https://localhost:8080/"
        },
        "id": "CHA7JrGbCWue",
        "outputId": "4b360298-9108-45c8-aa73-9f8adf638434"
      },
      "outputs": [
        {
          "output_type": "stream",
          "name": "stdout",
          "text": [
            "Ingrese un numero:  45\n",
            "El Ultimo digito del numero es:  5\n"
          ]
        }
      ],
      "source": [
        "# 1.Construir una funcion que reciba como parámetro un entero y retorne su último dígito\n",
        "\n",
        "def ult_dig(Num):\n",
        "  Ultimo_digito = Num%10\n",
        "  return(Ultimo_digito)\n",
        "\n",
        "Num=int(input(\"Ingrese un numero:  \"))\n",
        "print(\"El Ultimo digito del numero es: \", ult_dig(Num))"
      ]
    },
    {
      "cell_type": "code",
      "source": [
        "# 2.Construir una función que reciba como parámetro un entero y retorne sus dos últimos dígitos\n",
        "\n",
        "def ult_dig(Num):\n",
        "  ult_dig = 0\n",
        "  ult_dig = Num%100\n",
        "  return(ult_dig)\n",
        "\n",
        "valor= int(input(\"Digite número: \"))\n",
        "print(\"El último dígito es: \",ult_dig(valor))"
      ],
      "metadata": {
        "id": "UjAa2oTwc6UR",
        "colab": {
          "base_uri": "https://localhost:8080/"
        },
        "outputId": "99ea0e2c-abe5-4889-9f5b-0e0c87fcee57"
      },
      "execution_count": null,
      "outputs": [
        {
          "output_type": "stream",
          "name": "stdout",
          "text": [
            "Digite número: 320\n",
            "El último dígito es:  20\n"
          ]
        }
      ]
    },
    {
      "cell_type": "code",
      "source": [
        "# 3.Construir una función que reciba como parámetro un entero y retorne la cantidad de dígitos\n",
        "\n",
        "def countDigit(n):\n",
        "  count = 0\n",
        "  while n!= 0:\n",
        "    n //= 10\n",
        "    count+= 1\n",
        "  return count\n",
        "\n",
        "n =int(input(\"Dígite número: \"))\n",
        "print(\"Numeros digitados: \",(countDigit(n)))"
      ],
      "metadata": {
        "id": "yjsaT_DcdLaE",
        "colab": {
          "base_uri": "https://localhost:8080/"
        },
        "outputId": "dafa7762-ed5a-4a51-e8f0-b9df468c81da"
      },
      "execution_count": null,
      "outputs": [
        {
          "output_type": "stream",
          "name": "stdout",
          "text": [
            "Dígite número: 5236\n",
            "Numeros digitados:  4\n"
          ]
        }
      ]
    },
    {
      "cell_type": "code",
      "source": [
        "# 4.Construir una función que reciba como parámetro un entero y retorne la cantidad de digitos pares\n",
        "\n",
        "def cant_digpares(Num):\n",
        "  digits=str(Num)\n",
        "  count=0\n",
        "  for i in range(len(digits)):\n",
        "    if (int(digits[i]) % 2 == 0):\n",
        "      count += 1\n",
        "\n",
        "  return count\n",
        " \n",
        "Num=int(input('Ingrese un numero:  '))\n",
        "print('La cantidad de digitos pares que tiene el numero que ingreso es:  ',cant_digpares(Num))"
      ],
      "metadata": {
        "id": "sPonsuBudeB9"
      },
      "execution_count": null,
      "outputs": []
    },
    {
      "cell_type": "code",
      "source": [
        "# 5.Construir una función que reciba como parámetro un entero y retorne la cantidad de dígitos primos\n",
        "\n",
        "def cant_digprimos(Num):\n",
        "  digits=str(Num)\n",
        "  Cuenta_Dig=0\n",
        "  for i in range(len(digits)):\n",
        "    if (int(digits[i]) % 10 == 2) or (int(digits[i]) % 10 == 5) or (int(digits[i]) % 10 == 7) or (int(digits[i]) % 10 == 3):\n",
        "      Cuenta_Dig=Cuenta_Dig+1\n",
        "  return Cuenta_Dig\n",
        "\n",
        "\n",
        "Num=int(input(\"Ingrese un numero: \"))\n",
        "print(\"La cantidad de digitos primos es\",cant_digprimos(Num))"
      ],
      "metadata": {
        "id": "-rdUr0F-d3kM"
      },
      "execution_count": null,
      "outputs": []
    },
    {
      "cell_type": "code",
      "source": [
        "# 6.Construir una función que reciba como parámetro un entero y retorne el carácter al cual pertenece ese entero como código ASCII\n",
        "\n",
        "def Entero_ASCii(Num):\n",
        "  digits=str(Num)\n",
        "  Caracter_ASCii=[]\n",
        "  for i in digits:\n",
        "    Caracter_ASCii.append(ord(i))\n",
        "  return Caracter_ASCii\n",
        "\n",
        "Num=int(input(\"Ingrese un numero: \"))\n",
        "print(\"El entero en codigo ASCii es: \",Entero_ASCii(Num))"
      ],
      "metadata": {
        "id": "4VUPrZ2neQvA",
        "colab": {
          "base_uri": "https://localhost:8080/"
        },
        "outputId": "ce12d6b6-1ac6-40a9-8203-d86ff55d6cd9"
      },
      "execution_count": null,
      "outputs": [
        {
          "output_type": "stream",
          "name": "stdout",
          "text": [
            "Ingrese un numero: 64\n",
            "El entero en codigo ASCii es:  [54, 52]\n"
          ]
        }
      ]
    },
    {
      "cell_type": "code",
      "source": [
        "# 7.Construir una función que reciba como parámetro un carácter y retorne el código ASCII asociado a él\n",
        "\n",
        "def De_Ascii_A_Ent(Num):\n",
        "  digits=str(Num)\n",
        "  Caracter_ASCii=0\n",
        "  for i in digits:\n",
        "    Caracter_ASCii=(ord(i))\n",
        "  return Caracter_ASCii\n",
        "\n",
        "Num=(input(\"Ingrese el carácter: \"))\n",
        "print(\"El codigo ASCii es: \",Entero_ASCii(Num))"
      ],
      "metadata": {
        "id": "FvGomtc5eymk",
        "colab": {
          "base_uri": "https://localhost:8080/"
        },
        "outputId": "65462220-1698-4c31-e621-330fd2c19022"
      },
      "execution_count": null,
      "outputs": [
        {
          "output_type": "stream",
          "name": "stdout",
          "text": [
            "Ingrese el caracter: A\n",
            "El codigo ASCii es:  [65]\n"
          ]
        }
      ]
    },
    {
      "cell_type": "code",
      "source": [
        "\"\"\"\n",
        " 8.Construir una función que reciba como parámetro un entero y retorne 1 si dicho entero está entre \n",
        " los 30 primeros elementos de la serie de Fibonacci.Deberá retornar 0 si  no es así\n",
        "\"\"\"\n",
        "\n",
        "def fibonacci(n):\n",
        "    a = 0\n",
        "    b = 1\n",
        "    f = 0\n",
        "    if n >=30:\n",
        "        print(\"Incorrect input\")\n",
        "    elif n == 0:\n",
        "        return a\n",
        "    elif n == 1:\n",
        "        return b\n",
        "    else:\n",
        "        for i in range(3,n+1):\n",
        "            f.append(f[i-1] + f[i-2])\n",
        "            f = a + b\n",
        "            a = b\n",
        "            b = f\n",
        "        return b\n",
        " \n",
        "\n",
        "n=int(input(\"Ingrese el número: \"))\n",
        "print(\"El número fibonacci es: \",fibonacci(n))"
      ],
      "metadata": {
        "id": "VpOnRU4JfPwl",
        "colab": {
          "base_uri": "https://localhost:8080/",
          "height": 339
        },
        "outputId": "c825ece9-0bf3-4364-b005-534747faa5fd"
      },
      "execution_count": null,
      "outputs": [
        {
          "name": "stdout",
          "output_type": "stream",
          "text": [
            "Ingrese el número: 10\n"
          ]
        },
        {
          "output_type": "error",
          "ename": "AttributeError",
          "evalue": "ignored",
          "traceback": [
            "\u001b[0;31m---------------------------------------------------------------------------\u001b[0m",
            "\u001b[0;31mAttributeError\u001b[0m                            Traceback (most recent call last)",
            "\u001b[0;32m<ipython-input-8-953d152c198f>\u001b[0m in \u001b[0;36m<module>\u001b[0;34m\u001b[0m\n\u001b[1;32m     24\u001b[0m \u001b[0;34m\u001b[0m\u001b[0m\n\u001b[1;32m     25\u001b[0m \u001b[0mn\u001b[0m\u001b[0;34m=\u001b[0m\u001b[0mint\u001b[0m\u001b[0;34m(\u001b[0m\u001b[0minput\u001b[0m\u001b[0;34m(\u001b[0m\u001b[0;34m\"Ingrese el número: \"\u001b[0m\u001b[0;34m)\u001b[0m\u001b[0;34m)\u001b[0m\u001b[0;34m\u001b[0m\u001b[0;34m\u001b[0m\u001b[0m\n\u001b[0;32m---> 26\u001b[0;31m \u001b[0mprint\u001b[0m\u001b[0;34m(\u001b[0m\u001b[0;34m\"El número fibonacci es: \"\u001b[0m\u001b[0;34m,\u001b[0m\u001b[0mfibonacci\u001b[0m\u001b[0;34m(\u001b[0m\u001b[0mn\u001b[0m\u001b[0;34m)\u001b[0m\u001b[0;34m)\u001b[0m\u001b[0;34m\u001b[0m\u001b[0;34m\u001b[0m\u001b[0m\n\u001b[0m",
            "\u001b[0;32m<ipython-input-8-953d152c198f>\u001b[0m in \u001b[0;36mfibonacci\u001b[0;34m(n)\u001b[0m\n\u001b[1;32m     16\u001b[0m     \u001b[0;32melse\u001b[0m\u001b[0;34m:\u001b[0m\u001b[0;34m\u001b[0m\u001b[0;34m\u001b[0m\u001b[0m\n\u001b[1;32m     17\u001b[0m         \u001b[0;32mfor\u001b[0m \u001b[0mi\u001b[0m \u001b[0;32min\u001b[0m \u001b[0mrange\u001b[0m\u001b[0;34m(\u001b[0m\u001b[0;36m3\u001b[0m\u001b[0;34m,\u001b[0m\u001b[0mn\u001b[0m\u001b[0;34m+\u001b[0m\u001b[0;36m1\u001b[0m\u001b[0;34m)\u001b[0m\u001b[0;34m:\u001b[0m\u001b[0;34m\u001b[0m\u001b[0;34m\u001b[0m\u001b[0m\n\u001b[0;32m---> 18\u001b[0;31m             \u001b[0mf\u001b[0m\u001b[0;34m.\u001b[0m\u001b[0mappend\u001b[0m\u001b[0;34m(\u001b[0m\u001b[0mf\u001b[0m\u001b[0;34m[\u001b[0m\u001b[0mi\u001b[0m\u001b[0;34m-\u001b[0m\u001b[0;36m1\u001b[0m\u001b[0;34m]\u001b[0m \u001b[0;34m+\u001b[0m \u001b[0mf\u001b[0m\u001b[0;34m[\u001b[0m\u001b[0mi\u001b[0m\u001b[0;34m-\u001b[0m\u001b[0;36m2\u001b[0m\u001b[0;34m]\u001b[0m\u001b[0;34m)\u001b[0m\u001b[0;34m\u001b[0m\u001b[0;34m\u001b[0m\u001b[0m\n\u001b[0m\u001b[1;32m     19\u001b[0m             \u001b[0mf\u001b[0m \u001b[0;34m=\u001b[0m \u001b[0ma\u001b[0m \u001b[0;34m+\u001b[0m \u001b[0mb\u001b[0m\u001b[0;34m\u001b[0m\u001b[0;34m\u001b[0m\u001b[0m\n\u001b[1;32m     20\u001b[0m             \u001b[0ma\u001b[0m \u001b[0;34m=\u001b[0m \u001b[0mb\u001b[0m\u001b[0;34m\u001b[0m\u001b[0;34m\u001b[0m\u001b[0m\n",
            "\u001b[0;31mAttributeError\u001b[0m: 'int' object has no attribute 'append'"
          ]
        }
      ]
    },
    {
      "cell_type": "code",
      "source": [
        "\"\"\"\n",
        " 9.Construir una función que reciba un entero y le calcule su factorial sabiendo que el factorial\n",
        " de un número es el resultado de multiplicar sucesivamente todos los enteros comprendidos entre 1\n",
        " y el número dado.El factorial de 0 es 1.Aunque no están definidos los factoriales de números\n",
        " negativos, esta condición se evalúa por fuera de la función antes de su invocación\n",
        "\"\"\"\n",
        "\n",
        "def factorial(n): \n",
        "    return 1 if (n==1 or n==0) else n * factorial(n - 1);  \n",
        "  \n",
        "num =int(input(\"Ingrese el número: \")) \n",
        "print(\"Factorial de:\",num,\"es\", factorial(num))"
      ],
      "metadata": {
        "id": "4mW0Znqaf6Ct",
        "colab": {
          "base_uri": "https://localhost:8080/"
        },
        "outputId": "81afac66-bc3c-417c-9d47-e8a1ca2d8833"
      },
      "execution_count": null,
      "outputs": [
        {
          "output_type": "stream",
          "name": "stdout",
          "text": [
            "Ingrese el número: 6\n",
            "Factorial de: 6 es 720\n"
          ]
        }
      ]
    },
    {
      "cell_type": "code",
      "source": [
        "# 10.Construir una función que reciba como parámetro un entero y retorne el primer digito de este entero \n",
        "\n",
        "def primer_dig(num):\n",
        "  if num>=10:\n",
        "    num//= 10\n",
        "  return(num)\n",
        "  \n",
        "num=int(input(\"Ingrese el digito: \"))\n",
        "print(\"El primer digito es: \",primer_dig(num))"
      ],
      "metadata": {
        "id": "OzuuR0_GgwJf"
      },
      "execution_count": null,
      "outputs": []
    },
    {
      "cell_type": "code",
      "source": [
        "# 11.Construir una función que reciba comoparámetro un entero y un dígito y retorne 1 si dicho entero es multiplo de dicho dígito y 0 si no es así\n",
        "\n",
        "def multiplo(a,b):\n",
        "  return True if a % b == 0 else False \n",
        "\n",
        "a=int(input(\"Ingrese el valor del numero :\"))\n",
        "b=int(input(\"Ingrese el valor del digito :\"))\n",
        "print(multiplo(a,b))"
      ],
      "metadata": {
        "id": "GZ2EnuFDfKI9"
      },
      "execution_count": null,
      "outputs": []
    },
    {
      "cell_type": "code",
      "source": [
        "# 12.Construir una función que reciba como parámetro un entero y un dígito y retorne 1 si dicho dígito está en dicho entero y 0 si no es así\n",
        "\n",
        "def DigEnNum(a,b):\n",
        "  while a>=0:\n",
        "        return True if a % 10 == b  else False   \n",
        "\n",
        "a=int(input(\"Ingrese el valor del numero :\"))\n",
        "b=int(input(\"Ingrese el valor del digito :\"))\n",
        "entero=0\n",
        "print(DigEnNum(a,b))"
      ],
      "metadata": {
        "id": "5uW0nE84jA10"
      },
      "execution_count": null,
      "outputs": []
    },
    {
      "cell_type": "code",
      "source": [
        "\"\"\"\n",
        " 13.Construir una función que reciba como parámetro un entero y un dígito y retorne\n",
        " la cantidad de veces que se encuentra dicho dígito en dicho entero \n",
        "\"\"\"\n",
        "\n",
        "def cont(num,dig):\n",
        "  contador=0\n",
        "  if num>=0:\n",
        "   if num %10 == dig:\n",
        "      contador=contador+1\n",
        "  num//=10\n",
        "  return contador\n",
        "\n",
        "num=int(input(\"Ingrese el valor del numero: \"))\n",
        "dig=int(input(\"Ingrese el valor del digito: \"))\n",
        "print(\"cantidad de veces que esta el digito :\",cont(num,dig))"
      ],
      "metadata": {
        "id": "9sB0kLjBjSFe"
      },
      "execution_count": null,
      "outputs": []
    },
    {
      "cell_type": "code",
      "source": [
        "# 14.Construir una función que reciba como parámetros dos números enteros y retorne el valor del mayor\n",
        "\n",
        "def num(num1,num2):\n",
        "  if num1>num2:\n",
        "    return num1\n",
        "  else:\n",
        "    return num2\n",
        "\n",
        "num1=int(input(\"Ingrese el valor del numero 1 :\"))\n",
        "num2=int(input(\"Ingrese el valor del numero 2 :\"))\n",
        "print(num(num1,num2))"
      ],
      "metadata": {
        "id": "-Pwgidtwkd0N"
      },
      "execution_count": null,
      "outputs": []
    },
    {
      "cell_type": "code",
      "source": [
        "# 15.Construir una función que reciba como parámetros dos números enteros y retorne 1 si el primer número es múltiplo del segundo y 0 si no\n",
        "\n",
        "def multiplo(num1,num2):\n",
        "  if num1 % num2 == 0:\n",
        "    return True\n",
        "  else:\n",
        "      return False\n",
        "\n",
        "num1=int(input(\"Ingrese el valor del numero :\"))\n",
        "num2=int(input(\"Ingrese el valor del numero :\"))\n",
        "entero=0\n",
        "print(multiplo(num1,num2))"
      ],
      "metadata": {
        "id": "qUwKPxh0ktT0"
      },
      "execution_count": null,
      "outputs": []
    },
    {
      "cell_type": "code",
      "source": [
        "# 21.Construir una función que reciba como parámetro un entero y retorne 1 si en dicho valor el primer dígito es igual al último.Deberá retornar 0 si no es así\n",
        "\n",
        "def primDif_ultDig(num):\n",
        "  prim_Dig=0\n",
        "  ult_dig=0\n",
        "  ult_dig=num%10\n",
        "  if num>10:\n",
        "    num//=10\n",
        "  prim_Dig=num\n",
        "  if ult_dig==prim_Dig:\n",
        "    return(1)\n",
        "  else:\n",
        "    return(0)\n",
        "\n",
        "num=int(input(\"Ingrese el digito: \"))\n",
        "print(\"El valor es: \",primDif_ultDig(num))"
      ],
      "metadata": {
        "id": "Kkhu6YYjmfi2"
      },
      "execution_count": null,
      "outputs": []
    },
    {
      "cell_type": "code",
      "source": [
        "# 22.Construir una función que reciba como parámetro un entero y retorne 1 si dicho valor es múltiplo de 5.Deberá retornar 0 si no es así\n",
        "\n",
        "def mult_de_5(num):\n",
        "  if (num%5==0):\n",
        "    return(1)\n",
        "  else:\n",
        "    return(0)\n",
        "\n",
        "num=int(input(\"Ingrese el digito: \"))\n",
        "print(\"El valor es:\",mult_de_5(num))"
      ],
      "metadata": {
        "id": "LPeZmGi529VP"
      },
      "execution_count": null,
      "outputs": []
    },
    {
      "cell_type": "code",
      "source": [
        "# 23.Construir una función que reciba como parámetro dos enteros y retorne 1 si la diferencia entre los dos valores es un número primo.Deberá retornar 0 si no es así\n",
        "\n",
        "def dif_num_pri(num1,num2):\n",
        "  aux=0\n",
        "  dif=0\n",
        "  dif=num1-num2\n",
        "  contador=1\n",
        "  for aux in range(1,dif,1):\n",
        "    if dif % aux == 0:\n",
        "      contador=contador+1\n",
        "  if contador==2:\n",
        "    return(1)\n",
        "  else:\n",
        "    return(0)\n",
        "\n",
        "num1=int(input(\"Ingrese el primer digito: \"))\n",
        "num2=int(input(\"Ingrese el segundo digito: \"))\n",
        "print(\"El valor es: \",dif_num_pri(num1,num2))"
      ],
      "metadata": {
        "id": "Wwf_d5pv3BtA"
      },
      "execution_count": null,
      "outputs": []
    },
    {
      "cell_type": "code",
      "source": [
        "\"\"\"\n",
        " 24.Construir una función que reciba como parámetro dos enteros de dos dígitos cada uno\n",
        " y retorne 1 si son inversos.Ejemplo: 83 es inverso de 38.Deberá retornar 0 si no es así\n",
        "\"\"\"\n",
        "\n",
        "def num_inversos(num1,num2):\n",
        "  dig11=num1//10\n",
        "  dig12=num1%10\n",
        "\n",
        "  dig21=num2//10\n",
        "  dig22=num2%10\n",
        "  if dig11==dig22 and dig12==dig21:\n",
        "    return(1)\n",
        "  else:\n",
        "    return(0)\n",
        "\n",
        "num1=int(input(\"El primer numero es: \"))\n",
        "num2=int(input(\"El segundo numero es: \"))\n",
        "print(\"El valor es: \", num_inversos(num1,num2))"
      ],
      "metadata": {
        "id": "SdEEUFa03LPf"
      },
      "execution_count": null,
      "outputs": []
    },
    {
      "cell_type": "code",
      "source": [
        "\"\"\"\n",
        " 25.Construir una función que reciba como parámetro un entero y un dígito menor o igual a \n",
        " 5 y retorne el dígito del número que se encuentre en la posición especificada por el dígito que llegó como \n",
        " parámetro \n",
        "\"\"\"\n",
        "\n",
        "def pos_dig(num,dig):\n",
        "  contador=0\n",
        "  nDig=0\n",
        "  if (num > 0 and contador<=dig-1):\n",
        "    num//=10\n",
        "    contador=contador+1\n",
        "  nDig=num % 10\n",
        "  return(nDig)\n",
        "\n",
        "num=int(input(\"Ingrese el numero: \"))\n",
        "dig=int(input(\"Ingrese el digito: \"))\n",
        "print(\"El digito es: \",pos_dig(num,dig))"
      ],
      "metadata": {
        "id": "hPfGMeAf3UBa"
      },
      "execution_count": null,
      "outputs": []
    }
  ],
  "metadata": {
    "colab": {
      "provenance": [],
      "authorship_tag": "ABX9TyN4G+rEDDPe/2fLrjwwDzXG",
      "include_colab_link": true
    },
    "kernelspec": {
      "display_name": "Python 3",
      "name": "python3"
    },
    "language_info": {
      "name": "python"
    }
  },
  "nbformat": 4,
  "nbformat_minor": 0
}