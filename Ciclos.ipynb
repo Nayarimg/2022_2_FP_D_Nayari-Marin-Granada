{
  "nbformat": 4,
  "nbformat_minor": 0,
  "metadata": {
    "colab": {
      "provenance": [],
      "authorship_tag": "ABX9TyON+yvx5AGwi29Swi6VDJul",
      "include_colab_link": true
    },
    "kernelspec": {
      "name": "python3",
      "display_name": "Python 3"
    },
    "language_info": {
      "name": "python"
    }
  },
  "cells": [
    {
      "cell_type": "markdown",
      "metadata": {
        "id": "view-in-github",
        "colab_type": "text"
      },
      "source": [
        "<a href=\"https://colab.research.google.com/github/Nayarimg/2022_2_FP_D_Nayari-Marin-Granada/blob/main/Ciclos.ipynb\" target=\"_parent\"><img src=\"https://colab.research.google.com/assets/colab-badge.svg\" alt=\"Open In Colab\"/></a>"
      ]
    },
    {
      "cell_type": "code",
      "execution_count": null,
      "metadata": {
        "id": "0IdSffnpbXKd"
      },
      "outputs": [],
      "source": [
        "#Problema: Ciclos for\n",
        "#Autor: Grupo 1 dia\n",
        "#Versión:1.0\n",
        "#Fecha:15/09/2022 "
      ]
    },
    {
      "cell_type": "code",
      "source": [
        "#Ciclo for 1\n",
        "for x in range(10):\n",
        "    print(x)"
      ],
      "metadata": {
        "id": "hVwudF0bbaap"
      },
      "execution_count": null,
      "outputs": []
    },
    {
      "cell_type": "code",
      "source": [
        "#Ciclo for 2\n",
        "for x in range(3,12): \n",
        "    print(x)"
      ],
      "metadata": {
        "id": "3rnSNfhcbbn0"
      },
      "execution_count": null,
      "outputs": []
    },
    {
      "cell_type": "code",
      "source": [
        "#Ciclo for 3\n",
        "for i in range(5,505,5):\n",
        "    print(i)"
      ],
      "metadata": {
        "id": "jCI5piS6bc-b"
      },
      "execution_count": null,
      "outputs": []
    },
    {
      "cell_type": "code",
      "source": [
        "#Ciclo for 4\n",
        "inicio=int(input(\"Inicio: \"))\n",
        "fin=int(input(\"Fin: \"))\n",
        "incremento=int(input(\"Incremento:\"))\n",
        "for i in range(inicio,fin,incremento):\n",
        "    print(i)"
      ],
      "metadata": {
        "id": "6PpOPQ3obeZV"
      },
      "execution_count": null,
      "outputs": []
    },
    {
      "cell_type": "code",
      "source": [
        "#Ciclo for 5\n",
        "tabla = int(input(\"Cúal tabla desea: \"))\n",
        "for cont in range(11):\n",
        "    res=tabla*cont\n",
        "    print(tabla,\" * \",cont,\" = \",res)"
      ],
      "metadata": {
        "id": "DMqHBppIbgCy"
      },
      "execution_count": null,
      "outputs": []
    },
    {
      "cell_type": "code",
      "source": [
        "#Ciclo for 6- CICLOS SECUENCIALES\n",
        "#Ciclo para la primera tabla\n",
        "\n",
        "tabla = int(input(\"Cúal tabla desea: \"))\n",
        "for cont in range(11):\n",
        "    res=tabla*cont\n",
        "    print(tabla,\" * \",cont,\" = \",res)\n",
        "    \n",
        "#Ciclo para la segunda tabla\n",
        "\n",
        "tabla = int(input(\"Cúal tabla desea: \"))\n",
        "for cont in range(11):\n",
        "    res=tabla*cont\n",
        "    print(tabla,\" * \",cont,\" = \",res) "
      ],
      "metadata": {
        "id": "ABdsvuMvbh1i"
      },
      "execution_count": null,
      "outputs": []
    },
    {
      "cell_type": "code",
      "source": [
        "#Ciclo for 7- CICLOS ANIDADOS\n",
        "tabla = int(input(\"Cúal tabla desea: \"))\n",
        "\n",
        "for conTabla in range(1,tabla+1):\n",
        "    print(\"\\nT A B L A D E L:\",conTabla,\"\\n\")\n",
        "    for conMdor in range(1,11):\n",
        "        res=conTabla*conMdor\n",
        "        print(conTabla,\" * \",conMdor,\" = \",res)"
      ],
      "metadata": {
        "id": "ogdSLMvObjP3"
      },
      "execution_count": null,
      "outputs": []
    },
    {
      "cell_type": "code",
      "source": [
        "#Ciclo while\n",
        "x=1    \n",
        "tabla = int(input(\"Cúal tabla desea: \"))\n",
        "while x<=10:\n",
        "    res=tabla*x\n",
        "    print(tabla,\" * \",x,\" = \",res)\n",
        "    x=x+1"
      ],
      "metadata": {
        "id": "7GhMtIiwblqF",
        "outputId": "d485882c-54be-4e1c-a75c-919ddcd7f34f",
        "colab": {
          "base_uri": "https://localhost:8080/"
        }
      },
      "execution_count": null,
      "outputs": [
        {
          "output_type": "stream",
          "name": "stdout",
          "text": [
            "Cúal tabla desea: 5\n",
            "5  *  1  =  5\n",
            "5  *  2  =  10\n",
            "5  *  3  =  15\n",
            "5  *  4  =  20\n",
            "5  *  5  =  25\n",
            "5  *  6  =  30\n",
            "5  *  7  =  35\n",
            "5  *  8  =  40\n",
            "5  *  9  =  45\n",
            "5  *  10  =  50\n"
          ]
        }
      ]
    }
  ]
}