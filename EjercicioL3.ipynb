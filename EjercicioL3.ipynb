{
  "nbformat": 4,
  "nbformat_minor": 0,
  "metadata": {
    "colab": {
      "provenance": [],
      "authorship_tag": "ABX9TyM8EXj24naCxDO7Xd01AblS",
      "include_colab_link": true
    },
    "kernelspec": {
      "name": "python3",
      "display_name": "Python 3"
    },
    "language_info": {
      "name": "python"
    }
  },
  "cells": [
    {
      "cell_type": "markdown",
      "metadata": {
        "id": "view-in-github",
        "colab_type": "text"
      },
      "source": [
        "<a href=\"https://colab.research.google.com/github/Nayarimg/2022_2_FP_D_Nayari-Marin-Granada/blob/main/EjercicioL3.ipynb\" target=\"_parent\"><img src=\"https://colab.research.google.com/assets/colab-badge.svg\" alt=\"Open In Colab\"/></a>"
      ]
    },
    {
      "cell_type": "code",
      "source": [
        "\"\"\"\n",
        "Un ángulo se considera agudo si es menor de 90 grados,obtuso si es mayor de 90 grados y\n",
        "recto si es igual a 90 grados.Utilizando esta información, escribir un algoritmo que acepte \n",
        "un angulo en grados y visualice el tipo de ángulo correspondiente a los grados introducidos\n",
        "\n",
        "Autor: Nayari Marín\n",
        "\"\"\""
      ],
      "metadata": {
        "id": "tXCb6fDeHofp"
      },
      "execution_count": null,
      "outputs": []
    },
    {
      "cell_type": "code",
      "execution_count": null,
      "metadata": {
        "id": "cOQ4m9EXMXD9",
        "colab": {
          "base_uri": "https://localhost:8080/"
        },
        "outputId": "319f3c4b-ee44-4103-aaa9-679d53f912e4"
      },
      "outputs": [
        {
          "output_type": "stream",
          "name": "stdout",
          "text": [
            "Digite el valor del Angulo: 150\n",
            "Es un angulo obtuso\n"
          ]
        }
      ],
      "source": [
        "a=int(input(\"Digite el valor del Angulo: \"))\n",
        "\n",
        "if(a<90):\n",
        "  print(\"Es un Angulo agudo\")\n",
        "elif(a>90):\n",
        "  print(\"Es un angulo obtuso\")\n",
        "elif(a==90):\n",
        "  print(\"Es un Angulo recto\")"
      ]
    }
  ]
}