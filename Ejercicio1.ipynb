{
  "nbformat": 4,
  "nbformat_minor": 0,
  "metadata": {
    "colab": {
      "provenance": [],
      "authorship_tag": "ABX9TyPUxDET9gNFUIE/N/Vv6Vvm",
      "include_colab_link": true
    },
    "kernelspec": {
      "name": "python3",
      "display_name": "Python 3"
    },
    "language_info": {
      "name": "python"
    }
  },
  "cells": [
    {
      "cell_type": "markdown",
      "metadata": {
        "id": "view-in-github",
        "colab_type": "text"
      },
      "source": [
        "<a href=\"https://colab.research.google.com/github/Nayarimg/2022_2_FP_D_Nayari-Marin-Granada/blob/main/Ejercicio1.ipynb\" target=\"_parent\"><img src=\"https://colab.research.google.com/assets/colab-badge.svg\" alt=\"Open In Colab\"/></a>"
      ]
    },
    {
      "cell_type": "code",
      "execution_count": null,
      "metadata": {
        "id": "4g0mBLcdhjz1"
      },
      "outputs": [],
      "source": [
        "#Programa:leer las notas de 35 estudiantes y calcular el promedio\n",
        "#Autor: Grup FP-dia 2022_2\n",
        "#version: 1.0\n",
        "#fecha: 08_09_2022"
      ]
    },
    {
      "cell_type": "code",
      "source": [
        "#declaración e inicialización de variables\n",
        "const_int_can_estv= 3 # constante que almacena el número de estudiante\n",
        "const_int_can_mat= 3 # constante que almacena el número de materias\n",
        "var_ent_string_nombreEstudiante =\"\"#variable que almacena el nombre del estudiante\n",
        "var_ent_string_nombreMateria =\"\"#variable que almacena el nombre de la materia \n",
        "var_ent_float_notadef= 0.0\n",
        "var_pro_float_sumadef= 0.0\n",
        "var_prosal_float_promGru= 0.0\n",
        "var_pro_int_concic= 0 # variable que controla las repeticiones del ciclo de estudantes\n",
        "var_pro_int_concicmat= 0 # variable que controla las repeticiones del ciclo de materia\n",
        "var_proSal_float_notMay = 0.0 # Variable para identificar la mayor nota\n",
        "var_proSal_int_canEstGan = 0\n",
        "var_pro_float_sumaDefGru =0.0\n",
        "var_proSal_string_estMayNot=\"\"#Variable que almacena el estudiante con mayor nota "
      ],
      "metadata": {
        "id": "btNU7eUahq75"
      },
      "execution_count": null,
      "outputs": []
    },
    {
      "cell_type": "code",
      "source": [
        "#lectura o captura de datos\n",
        "for var_pro_int_concicmat in range(const_int_can_mat):\n",
        "  var_ent_string_nombreMateria= input(\"Digite la materia\")\n",
        "  #Inicio ciclo de estudiantes \n",
        "  for var_pro_int_conCic in range(const_int_can_estv):\n",
        "      var_ent_string_nombreEstudiante = input(\"Digite nombre : \")\n",
        "      #lectura de la nota de estudiante\n",
        "      var_ent_float_notadef = float(input(\"Digite nota definitiva : \"))\n",
        "      #definir el concepto de la nota 6 o más aprueba de lo contrario\n",
        "      if var_ent_float_notadef>=6.0:\n",
        "        print(\"Usted aprobo la asignatura\")\n",
        "      else:\n",
        "        print(\"Usted no aprobo la asignatura\")\n",
        "      #fin del concepto\n",
        "      if(var_ent_float_notadef>var_proSal_float_notMay):\n",
        "        var_proSal_float_notMay = var_ent_float_notadef\n",
        "        var_proSal_string_estMayNot=var_ent_string_nombreEstudiante\n",
        "\n",
        "\n",
        "      #calcular cuantos estudiantes ganaron la asignatura\n",
        "      if(var_ent_float_notadef>6.0):\n",
        "        var_proSal_int_canEstGan=var_proSal_int_canEstGan+1\n",
        "\n",
        "        \n",
        "  #acumular la suma de las notas\n",
        "  var_pro_float_sumaDefGru = var_pro_float_sumaDefGru+ var_ent_float_notadef \n",
        "  #punto de control para verificar las acumulación de las notas\n",
        "  #print(\"lleve acumulado: \",var_pro_float_sumDefGru)\n",
        "  #fin del ciclo Estudiantes\n",
        "\n",
        "  #cálculo de promedio del grupo\n",
        "  var_prosal_float_promGru =var_pro_float_sumaDefGru/const_int_can_estv\n",
        "  print(\"El promedio del grupo de \",+var_ent_string_nombreMateria +\"es :\" +str(var_prosal_float_promGru))\n",
        "  #Calcular nota mayor\n",
        "  print(\"Hasta el momento la nota mayor es: \",var_proSal_float_notMay)\n",
        "  #Punto d control\n",
        "  print(\"Llevamos ganados: \",var_proSal_int_canEstGan)\n",
        "  #Fin del ciclo de asignatura"
      ],
      "metadata": {
        "id": "RfGSsvF4uWoc",
        "colab": {
          "base_uri": "https://localhost:8080/",
          "height": 235
        },
        "outputId": "6995f7ca-f600-4def-c796-9c301dcd79c6"
      },
      "execution_count": null,
      "outputs": [
        {
          "output_type": "error",
          "ename": "TypeError",
          "evalue": "ignored",
          "traceback": [
            "\u001b[0;31m---------------------------------------------------------------------------\u001b[0m",
            "\u001b[0;31mTypeError\u001b[0m                                 Traceback (most recent call last)",
            "\u001b[0;32m<ipython-input-8-644c78c8bc95>\u001b[0m in \u001b[0;36m<module>\u001b[0;34m\u001b[0m\n\u001b[1;32m      1\u001b[0m \u001b[0;31m#lectura o captura de datos\u001b[0m\u001b[0;34m\u001b[0m\u001b[0;34m\u001b[0m\u001b[0;34m\u001b[0m\u001b[0m\n\u001b[0;32m----> 2\u001b[0;31m \u001b[0;32mfor\u001b[0m \u001b[0mvar_pro_int_concicmat\u001b[0m \u001b[0;32min\u001b[0m \u001b[0mrange\u001b[0m\u001b[0;34m(\u001b[0m\u001b[0mconst_int_can_mat\u001b[0m\u001b[0;34m)\u001b[0m\u001b[0;34m:\u001b[0m\u001b[0;34m\u001b[0m\u001b[0;34m\u001b[0m\u001b[0m\n\u001b[0m\u001b[1;32m      3\u001b[0m   \u001b[0mvar_ent_string_nombreMateria\u001b[0m\u001b[0;34m=\u001b[0m \u001b[0minput\u001b[0m\u001b[0;34m(\u001b[0m\u001b[0;34m\"Digite la materia\"\u001b[0m\u001b[0;34m)\u001b[0m\u001b[0;34m\u001b[0m\u001b[0;34m\u001b[0m\u001b[0m\n\u001b[1;32m      4\u001b[0m   \u001b[0;31m#Inicio ciclo de estudiantes\u001b[0m\u001b[0;34m\u001b[0m\u001b[0;34m\u001b[0m\u001b[0;34m\u001b[0m\u001b[0m\n\u001b[1;32m      5\u001b[0m   \u001b[0;32mfor\u001b[0m \u001b[0mvar_pro_int_conCic\u001b[0m \u001b[0;32min\u001b[0m \u001b[0mrange\u001b[0m\u001b[0;34m(\u001b[0m\u001b[0mconst_int_can_estv\u001b[0m\u001b[0;34m)\u001b[0m\u001b[0;34m:\u001b[0m\u001b[0;34m\u001b[0m\u001b[0;34m\u001b[0m\u001b[0m\n",
            "\u001b[0;31mTypeError\u001b[0m: 'float' object cannot be interpreted as an integer"
          ]
        }
      ]
    }
  ]
}