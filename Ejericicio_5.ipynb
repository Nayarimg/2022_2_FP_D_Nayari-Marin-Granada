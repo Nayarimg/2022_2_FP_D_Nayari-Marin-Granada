{
  "nbformat": 4,
  "nbformat_minor": 0,
  "metadata": {
    "colab": {
      "provenance": [],
      "authorship_tag": "ABX9TyMVW+yJgpSWfeOtENyzUByx",
      "include_colab_link": true
    },
    "kernelspec": {
      "name": "python3",
      "display_name": "Python 3"
    },
    "language_info": {
      "name": "python"
    }
  },
  "cells": [
    {
      "cell_type": "markdown",
      "metadata": {
        "id": "view-in-github",
        "colab_type": "text"
      },
      "source": [
        "<a href=\"https://colab.research.google.com/github/Nayarimg/2022_2_FP_D_Nayari-Marin-Granada/blob/main/Ejericicio_5.ipynb\" target=\"_parent\"><img src=\"https://colab.research.google.com/assets/colab-badge.svg\" alt=\"Open In Colab\"/></a>"
      ]
    },
    {
      "cell_type": "markdown",
      "source": [
        "Calcular el área de un cono de altura inclinada 15cm y diámetro 6cm\n",
        "\n",
        "Datos:\n",
        "\n",
        "Altura:15 cm\n",
        "Diametro:6 cm\n",
        "Radio: 3cm"
      ],
      "metadata": {
        "id": "bQz0QwJh3vqD"
      }
    },
    {
      "cell_type": "code",
      "execution_count": null,
      "metadata": {
        "colab": {
          "base_uri": "https://localhost:8080/"
        },
        "id": "0nQATWx42xUj",
        "outputId": "2eca8779-7285-4861-cf43-e4b35db001e7"
      },
      "outputs": [
        {
          "output_type": "stream",
          "name": "stdout",
          "text": [
            "Ingrese la altura en cm: 15\n",
            "Ingrese el diametro en cm: 6\n",
            "Ingrese el radio en cm: 3\n",
            "El área del cono es:  169.64600329384882\n"
          ]
        }
      ],
      "source": [
        "import numpy as np\n",
        "a=int(input(\"Ingrese la altura en cm: \"))\n",
        "d=int(input(\"Ingrese el diametro en cm: \"))\n",
        "r=int(input(\"Ingrese el radio en cm: \"))\n",
        "A=(np.pi*r*(r+a))\n",
        "print(\"El área del cono es: \",A)"
      ]
    }
  ]
}