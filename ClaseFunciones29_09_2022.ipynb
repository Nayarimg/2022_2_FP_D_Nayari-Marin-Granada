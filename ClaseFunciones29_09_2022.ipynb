{
  "nbformat": 4,
  "nbformat_minor": 0,
  "metadata": {
    "colab": {
      "provenance": [],
      "authorship_tag": "ABX9TyPPs9vjOJdjJ41735ee8dqD",
      "include_colab_link": true
    },
    "kernelspec": {
      "name": "python3",
      "display_name": "Python 3"
    },
    "language_info": {
      "name": "python"
    }
  },
  "cells": [
    {
      "cell_type": "markdown",
      "metadata": {
        "id": "view-in-github",
        "colab_type": "text"
      },
      "source": [
        "<a href=\"https://colab.research.google.com/github/Nayarimg/2022_2_FP_D_Nayari-Marin-Granada/blob/main/ClaseFunciones29_09_2022.ipynb\" target=\"_parent\"><img src=\"https://colab.research.google.com/assets/colab-badge.svg\" alt=\"Open In Colab\"/></a>"
      ]
    },
    {
      "cell_type": "code",
      "execution_count": null,
      "metadata": {
        "id": "_gzaHaCx55Xd"
      },
      "outputs": [],
      "source": [
        "def mostrar_mensajes():\n",
        "  print(\"**********************************************\")\n",
        "  print(\"FUNCION QUE NO RECIBE PARAMETRO Y NO RETORNA VALOR\")\n",
        "  print(\"LINEA DOS DEL MENSAJE\")\n",
        "  print(\"**********************************************\")\n",
        "\n",
        "mostrar_mensajes()"
      ]
    },
    {
      "cell_type": "code",
      "source": [
        "def mostrar_mensajes(mensaje):\n",
        "  print(\"**********************************************\")\n",
        "  print(mensaje)\n",
        "  print(\"**********************************************\")"
      ],
      "metadata": {
        "id": "0Jb4RZj9mcln"
      },
      "execution_count": null,
      "outputs": []
    },
    {
      "cell_type": "code",
      "source": [
        "#Ejemplo funcion que recibe y no retorna\n",
        "\n",
        "def sumatoria (n):\n",
        "  s=0\n",
        "  for i in range (n):\n",
        "    s=s+pow(i,2)\n",
        "    print(\"La sumatoria es: \",s)\n",
        "\n",
        "sumatoria(5)\n"
      ],
      "metadata": {
        "colab": {
          "base_uri": "https://localhost:8080/"
        },
        "id": "yPp0RVvxn-Nw",
        "outputId": "77dbdff8-c41e-4297-c4e0-bb0384f3b356"
      },
      "execution_count": null,
      "outputs": [
        {
          "output_type": "stream",
          "name": "stdout",
          "text": [
            "La sumatoria es:  0\n",
            "La sumatoria es:  1\n",
            "La sumatoria es:  5\n",
            "La sumatoria es:  14\n",
            "La sumatoria es:  30\n"
          ]
        }
      ]
    },
    {
      "cell_type": "code",
      "source": [
        "#Ejemplo funcion que recibe y retorna\n",
        "\n",
        "def sumatoria (n):\n",
        "  s=0\n",
        "  for i in range (n):\n",
        "    s=s+pow(i,2)\n",
        "  return s  \n",
        "val=int(input(\"Digite el valor: \"))\n",
        "resSum=sumatoria(val)\n",
        "print(\"La sumatoria es: \",resSum)"
      ],
      "metadata": {
        "colab": {
          "base_uri": "https://localhost:8080/"
        },
        "id": "_iOApMcopF1x",
        "outputId": "a23ba9c7-51a8-48bd-a44f-8b9849798f94"
      },
      "execution_count": null,
      "outputs": [
        {
          "output_type": "stream",
          "name": "stdout",
          "text": [
            "Digite el valor: 10\n",
            "La sumatoria es:  285\n"
          ]
        }
      ]
    },
    {
      "cell_type": "code",
      "source": [
        "def sumatoria (e):\n",
        "  s=0\n",
        "  for i in range (e):\n",
        "    s=s+pow(i,e)\n",
        "  return s  \n",
        "val=int(input(\"Digite el valor: \"))\n",
        "exp=int(input(\"Digite el exponente: \"))\n",
        "resSum = sumatoria (val,exp)\n",
        "print(\"La sumatoria es: \",resSum)"
      ],
      "metadata": {
        "colab": {
          "base_uri": "https://localhost:8080/",
          "height": 252
        },
        "id": "VCOJJTcuqNBI",
        "outputId": "dcf4f67e-1c6b-4e3c-a9c3-3c0fd4e6edc9"
      },
      "execution_count": null,
      "outputs": [
        {
          "name": "stdout",
          "output_type": "stream",
          "text": [
            "Digite el valor: 5\n",
            "Digite el exponente: 5\n"
          ]
        },
        {
          "output_type": "error",
          "ename": "TypeError",
          "evalue": "ignored",
          "traceback": [
            "\u001b[0;31m---------------------------------------------------------------------------\u001b[0m",
            "\u001b[0;31mTypeError\u001b[0m                                 Traceback (most recent call last)",
            "\u001b[0;32m<ipython-input-2-77133c93ba74>\u001b[0m in \u001b[0;36m<module>\u001b[0;34m\u001b[0m\n\u001b[1;32m      6\u001b[0m \u001b[0mval\u001b[0m\u001b[0;34m=\u001b[0m\u001b[0mint\u001b[0m\u001b[0;34m(\u001b[0m\u001b[0minput\u001b[0m\u001b[0;34m(\u001b[0m\u001b[0;34m\"Digite el valor: \"\u001b[0m\u001b[0;34m)\u001b[0m\u001b[0;34m)\u001b[0m\u001b[0;34m\u001b[0m\u001b[0;34m\u001b[0m\u001b[0m\n\u001b[1;32m      7\u001b[0m \u001b[0mexp\u001b[0m\u001b[0;34m=\u001b[0m\u001b[0mint\u001b[0m\u001b[0;34m(\u001b[0m\u001b[0minput\u001b[0m\u001b[0;34m(\u001b[0m\u001b[0;34m\"Digite el exponente: \"\u001b[0m\u001b[0;34m)\u001b[0m\u001b[0;34m)\u001b[0m\u001b[0;34m\u001b[0m\u001b[0;34m\u001b[0m\u001b[0m\n\u001b[0;32m----> 8\u001b[0;31m \u001b[0mresSum\u001b[0m \u001b[0;34m=\u001b[0m \u001b[0msumatoria\u001b[0m \u001b[0;34m(\u001b[0m\u001b[0mval\u001b[0m\u001b[0;34m,\u001b[0m\u001b[0mexp\u001b[0m\u001b[0;34m)\u001b[0m\u001b[0;34m\u001b[0m\u001b[0;34m\u001b[0m\u001b[0m\n\u001b[0m\u001b[1;32m      9\u001b[0m \u001b[0mprint\u001b[0m\u001b[0;34m(\u001b[0m\u001b[0;34m\"La sumatoria es: \"\u001b[0m\u001b[0;34m,\u001b[0m\u001b[0mresSum\u001b[0m\u001b[0;34m)\u001b[0m\u001b[0;34m\u001b[0m\u001b[0;34m\u001b[0m\u001b[0m\n",
            "\u001b[0;31mTypeError\u001b[0m: sumatoria() takes 1 positional argument but 2 were given"
          ]
        }
      ]
    }
  ]
}