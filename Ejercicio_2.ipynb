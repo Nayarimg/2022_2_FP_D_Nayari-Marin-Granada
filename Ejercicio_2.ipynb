{
  "nbformat": 4,
  "nbformat_minor": 0,
  "metadata": {
    "colab": {
      "provenance": [],
      "authorship_tag": "ABX9TyNGbe/p5DRfOmtErHrFfQPz",
      "include_colab_link": true
    },
    "kernelspec": {
      "name": "python3",
      "display_name": "Python 3"
    },
    "language_info": {
      "name": "python"
    }
  },
  "cells": [
    {
      "cell_type": "markdown",
      "metadata": {
        "id": "view-in-github",
        "colab_type": "text"
      },
      "source": [
        "<a href=\"https://colab.research.google.com/github/Nayarimg/2022_2_FP_D_Nayari-Marin-Granada/blob/main/Ejercicio_2.ipynb\" target=\"_parent\"><img src=\"https://colab.research.google.com/assets/colab-badge.svg\" alt=\"Open In Colab\"/></a>"
      ]
    },
    {
      "cell_type": "markdown",
      "source": [
        "Un fórmula 1 que parte del reposo alcanza una velocidad de 216 km/h en 10 s. Calcula su aceleración.\n",
        "\n",
        "Datos: \n",
        "\n",
        "Vf= 216 km/h\n",
        "Vi= 0 m/s\n",
        "t= 10 s"
      ],
      "metadata": {
        "id": "13HQewK06Su3"
      }
    },
    {
      "cell_type": "markdown",
      "source": [
        "Conversión"
      ],
      "metadata": {
        "id": "7hcfP3lfLxJv"
      }
    },
    {
      "cell_type": "code",
      "source": [
        "#1km=1000m \n",
        "#1h=36000\n",
        "x=216*(1000/3600)\n",
        "conversion=int(input(\"Ingrese el valor:\"))\n",
        "print(\"Conversion de km/s a m/s\",conversion,\"*1000/3600\")\n",
        "print(\"Como resultado de la conversión obtenemos\",x,\"m/s\")"
      ],
      "metadata": {
        "colab": {
          "base_uri": "https://localhost:8080/"
        },
        "id": "CYgoEZWk7C_A",
        "outputId": "5ce0e1d0-1d27-4045-b55c-c2b46f7ef39a"
      },
      "execution_count": null,
      "outputs": [
        {
          "output_type": "stream",
          "name": "stdout",
          "text": [
            "Ingrese el valor:216\n",
            "Conversion de km/s a m/s 216 *1000/3600\n",
            "Como resultado de la conversión obtenemos 60.0 m/s\n"
          ]
        }
      ]
    },
    {
      "cell_type": "markdown",
      "source": [
        "Fórmula "
      ],
      "metadata": {
        "id": "3hMEv6d6L3GQ"
      }
    },
    {
      "cell_type": "code",
      "execution_count": null,
      "metadata": {
        "colab": {
          "base_uri": "https://localhost:8080/"
        },
        "id": "vXY3TM-m4CWQ",
        "outputId": "f2b01b2d-d9f7-47f6-c036-e3a46ebfd46c"
      },
      "outputs": [
        {
          "output_type": "stream",
          "name": "stdout",
          "text": [
            "Ingrese la velocidad final en m/s: 60\n",
            "Ingrese la velocidad inicial en m/s: 0\n",
            "Ingrese el tiempo en s: 10\n",
            "La resta es:  60\n",
            "El resultado final es:  6.0 m/s2\n"
          ]
        }
      ],
      "source": [
        "vf=int(input(\"Ingrese la velocidad final en m/s: \"))\n",
        "vi=int(input(\"Ingrese la velocidad inicial en m/s: \"))\n",
        "t=int(input(\"Ingrese el tiempo en s: \"))\n",
        "a=((vf-vi)/t)\n",
        "print(\"La resta es: \",vf-vi)\n",
        "print(\"El resultado final es: \",a,\"m/s2\")"
      ]
    }
  ]
}